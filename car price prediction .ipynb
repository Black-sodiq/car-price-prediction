{
 "cells": [
  {
   "cell_type": "code",
   "execution_count": 1,
   "metadata": {},
   "outputs": [],
   "source": [
    "import pandas as pd\n",
    "import numpy as np\n",
    "from matplotlib import pyplot as plt"
   ]
  },
  {
   "cell_type": "code",
   "execution_count": 32,
   "metadata": {},
   "outputs": [
    {
     "data": {
      "text/html": [
       "<div>\n",
       "<style scoped>\n",
       "    .dataframe tbody tr th:only-of-type {\n",
       "        vertical-align: middle;\n",
       "    }\n",
       "\n",
       "    .dataframe tbody tr th {\n",
       "        vertical-align: top;\n",
       "    }\n",
       "\n",
       "    .dataframe thead th {\n",
       "        text-align: right;\n",
       "    }\n",
       "</style>\n",
       "<table border=\"1\" class=\"dataframe\">\n",
       "  <thead>\n",
       "    <tr style=\"text-align: right;\">\n",
       "      <th></th>\n",
       "      <th>Price</th>\n",
       "      <th>Condition</th>\n",
       "      <th>Mileage</th>\n",
       "      <th>Age</th>\n",
       "      <th>Year</th>\n",
       "    </tr>\n",
       "  </thead>\n",
       "  <tbody>\n",
       "    <tr>\n",
       "      <th>0</th>\n",
       "      <td>1300000</td>\n",
       "      <td>1</td>\n",
       "      <td>1001</td>\n",
       "      <td>18</td>\n",
       "      <td>2001</td>\n",
       "    </tr>\n",
       "    <tr>\n",
       "      <th>1</th>\n",
       "      <td>3000000</td>\n",
       "      <td>1</td>\n",
       "      <td>1002</td>\n",
       "      <td>9</td>\n",
       "      <td>2010</td>\n",
       "    </tr>\n",
       "    <tr>\n",
       "      <th>2</th>\n",
       "      <td>1800000</td>\n",
       "      <td>1</td>\n",
       "      <td>1002</td>\n",
       "      <td>10</td>\n",
       "      <td>2009</td>\n",
       "    </tr>\n",
       "    <tr>\n",
       "      <th>3</th>\n",
       "      <td>1850000</td>\n",
       "      <td>2</td>\n",
       "      <td>1004</td>\n",
       "      <td>11</td>\n",
       "      <td>2008</td>\n",
       "    </tr>\n",
       "    <tr>\n",
       "      <th>4</th>\n",
       "      <td>1100000</td>\n",
       "      <td>2</td>\n",
       "      <td>1006</td>\n",
       "      <td>16</td>\n",
       "      <td>2003</td>\n",
       "    </tr>\n",
       "  </tbody>\n",
       "</table>\n",
       "</div>"
      ],
      "text/plain": [
       "     Price  Condition  Mileage  Age  Year\n",
       "0  1300000          1     1001   18  2001\n",
       "1  3000000          1     1002    9  2010\n",
       "2  1800000          1     1002   10  2009\n",
       "3  1850000          2     1004   11  2008\n",
       "4  1100000          2     1006   16  2003"
      ]
     },
     "execution_count": 32,
     "metadata": {},
     "output_type": "execute_result"
    }
   ],
   "source": [
    "data = pd.read_csv('camry.csv',names=['Price','Condition','Mileage','Age','Year'])\n",
    "X = data.iloc[:, 1:5].values;\n",
    "y = data.iloc[:, 0].values;\n",
    "m = len(y);\n",
    "\n",
    "data.head()"
   ]
  },
  {
   "cell_type": "code",
   "execution_count": 33,
   "metadata": {},
   "outputs": [
    {
     "data": {
      "text/plain": [
       "(2872, 5)"
      ]
     },
     "execution_count": 33,
     "metadata": {},
     "output_type": "execute_result"
    }
   ],
   "source": [
    "data.shape"
   ]
  },
  {
   "cell_type": "code",
   "execution_count": 34,
   "metadata": {},
   "outputs": [],
   "source": [
    "def h_of_x(X, theta):\n",
    "    return np.dot(X,theta)"
   ]
  },
  {
   "cell_type": "code",
   "execution_count": 35,
   "metadata": {},
   "outputs": [],
   "source": [
    "def computeCostMulti(X, y, theta):\n",
    "    m = len(y)\n",
    "    J = (np.sum((np.dot(X,theta) - y)**2))/(2*m)\n",
    "    return J"
   ]
  },
  {
   "cell_type": "code",
   "execution_count": 36,
   "metadata": {},
   "outputs": [],
   "source": [
    "# Mean Normalization\n",
    "def\tfeatureNormalize(X):\n",
    "\n",
    "    X_norm = X.copy()\n",
    "    mu = np.zeros(X.shape[1])\n",
    "    sigma = np.zeros(X.shape[1])\n",
    "\n",
    "    #======================\n",
    "\n",
    "    mu = np.mean(X,axis=0)\n",
    "    sigma = np.std(X,axis=0)\n",
    "    X_norm = np.divide((X - mu),sigma)\n",
    "\n",
    "    #====================\n",
    "    return X_norm, mu, sigma\n",
    "\n"
   ]
  },
  {
   "cell_type": "code",
   "execution_count": 37,
   "metadata": {},
   "outputs": [
    {
     "name": "stdout",
     "output_type": "stream",
     "text": [
      "Normalizing Features ...\n",
      "[mu] [sigma]\n",
      "[1.23189415e+00 8.69660097e+04 1.07106546e+01 2.00828935e+03] [4.31021369e-01 5.96133156e+04 3.80507623e+00 3.80507623e+00]\n"
     ]
    }
   ],
   "source": [
    "# Scale features and set them to zero mean\n",
    "print ('Normalizing Features ...')\n",
    "X, mu, sigma = featureNormalize(X)\n",
    "print ('[mu] [sigma]')\n",
    "print (mu, sigma)\n",
    "\n",
    "# Add intercept term to X\n",
    "X = np.concatenate((np.ones((m, 1)), X), axis=1)"
   ]
  },
  {
   "cell_type": "code",
   "execution_count": 38,
   "metadata": {},
   "outputs": [],
   "source": [
    "def gradientDescentMulti(X, y, theta, alpha, num_iters):\n",
    "    m = len(y); # number of training examples\n",
    "    J_history = np.zeros([num_iters, 1]);\n",
    "\n",
    "    for iter in range(num_iters):\n",
    "        #============ Your code here =============\n",
    "        #theta = theta - (alpha/m)*np.sum((h_of_x(X,theta)-y)[:,None]*X,axis=0)\n",
    "        \n",
    "        theta = theta - (alpha/m)*(np.dot(X.T,(h_of_x(X,theta)-y)))\n",
    "        \n",
    "        #==================================\n",
    "        J_history[iter] = computeCostMulti(X, y, theta)\n",
    "        \n",
    "\n",
    "\n",
    "\n",
    "    return theta, J_history\n"
   ]
  },
  {
   "cell_type": "code",
   "execution_count": 39,
   "metadata": {},
   "outputs": [
    {
     "name": "stdout",
     "output_type": "stream",
     "text": [
      "Running gradient descent ...\n"
     ]
    }
   ],
   "source": [
    "# Choose some alpha value\n",
    "alpha = 0.01\n",
    "num_iters = 400\n",
    "\n",
    "def gd(alpha):\n",
    "    print ('Running gradient descent ...')\n",
    "    # Init Theta and Run Gradient Descent \n",
    "    thet = np.zeros(5)\n",
    "    thet, J_history = gradientDescentMulti(X, y, thet, alpha, num_iters)\n",
    "    \n",
    "    return thet, J_history\n",
    "\n",
    "thet, J_history = gd(alpha)"
   ]
  },
  {
   "cell_type": "code",
   "execution_count": 40,
   "metadata": {},
   "outputs": [
    {
     "name": "stdout",
     "output_type": "stream",
     "text": [
      "Running gradient descent ...\n",
      "Running gradient descent ...\n",
      "Running gradient descent ...\n",
      "Running gradient descent ...\n",
      "Running gradient descent ...\n"
     ]
    },
    {
     "name": "stderr",
     "output_type": "stream",
     "text": [
      "C:\\Users\\otubela yusuf\\Anaconda3\\lib\\site-packages\\numpy\\core\\_methods.py:32: RuntimeWarning: overflow encountered in reduce\n",
      "  return umr_sum(a, axis, dtype, out, keepdims)\n",
      "C:\\Users\\otubela yusuf\\Anaconda3\\lib\\site-packages\\ipykernel_launcher.py:3: RuntimeWarning: overflow encountered in square\n",
      "  This is separate from the ipykernel package so we can avoid doing imports until\n"
     ]
    },
    {
     "data": {
      "image/png": "[encoded data removed]",
      "text/plain": [
       "<Figure size 1080x432 with 5 Axes>"
      ]
     },
     "metadata": {},
     "output_type": "display_data"
    }
   ],
   "source": [
    "# Choose some alpha value\n",
    "alphas = [0.001,0.1,0,.0001,3]\n",
    "thetas = []\n",
    "num_iters = 400\n",
    "\n",
    "def costs():\n",
    "    J = []\n",
    "    for i in alphas:\n",
    "        alpha = i\n",
    "        thet, j = gd(i)\n",
    "        J.append(j)\n",
    "        thetas.append(thet)\n",
    "    return J\n",
    "\n",
    "J_hists = costs()\n",
    "\n",
    "axs = []\n",
    "fig = plt.figure(figsize=(15,6))\n",
    "for i in range(len(J_hists)):\n",
    "    axs.append(fig.add_subplot('22'+str(i)))\n",
    "    axs[-1].plot(J_hists[i], label=\"alpha=\"+str(alphas[i]))\n",
    "    axs[-1].set_xlabel('Number of iterations')\n",
    "    axs[-1].set_ylabel('Cost J')\n",
    "    #axs[-1].title = str(alphas[i])\n",
    "    plt.show\n",
    "\n",
    "    plt.legend()\n"
   ]
  },
  {
   "cell_type": "code",
   "execution_count": 41,
   "metadata": {},
   "outputs": [
    {
     "data": {
      "text/plain": [
       "array([2823078.22117282, -236416.78167516, -146664.96542288,\n",
       "       -678593.38813902,  678593.38813905])"
      ]
     },
     "execution_count": 41,
     "metadata": {},
     "output_type": "execute_result"
    }
   ],
   "source": [
    "thet"
   ]
  },
  {
   "cell_type": "code",
   "execution_count": 42,
   "metadata": {},
   "outputs": [
    {
     "name": "stdout",
     "output_type": "stream",
     "text": [
      "Theta computed from gradient descent: \n",
      "[2823078.22117282 -236416.78167516 -146664.96542288 -678593.38813902\n",
      "  678593.38813905]\n",
      "Predicted price of a car having 1201 mileage and 18 years old\n",
      "using gradient descent: \n",
      "[-1.01128629e+09]\n"
     ]
    }
   ],
   "source": [
    "print ('Theta computed from gradient descent: ')\n",
    "print (thet)\n",
    "\n",
    "price = None\n",
    "# Estimate the price of a a car having 1201 mileage and 18 years old\n",
    "####### START CODE ###########\n",
    "\n",
    "example = np.array([[1, 1201, 18, 1, 1]])   # the test example\n",
    "example_norm = np.ones(example.shape)  # a variable is initialized with an array of ones of same shape as the test example\n",
    "                                        # this variable will hold the normalized features\n",
    "    \n",
    "    \n",
    "example_norm.dtype = np.float # Note that the array datatype must be float32 and not int\n",
    "    \n",
    "    \n",
    "# apply feature scaling and normalization\n",
    "example_norm[:, 1:] = np.divide((example[:, 1:] - mu),sigma)\n",
    "\n",
    "\n",
    "# Now make predictions\n",
    "price = h_of_x(example_norm, thet)\n",
    "\n",
    "####### END CODE ############\n",
    "\n",
    "print ('Predicted price of a car having 1201 mileage and 18 years old')\n",
    "print ('using gradient descent: ')\n",
    "print (price)"
   ]
  },
  {
   "cell_type": "code",
   "execution_count": 46,
   "metadata": {},
   "outputs": [
    {
     "data": {
      "text/plain": [
       "array([112723.35202872, -27212.7871111 , -21109.59074329, -56665.06233251,\n",
       "        56665.06233251])"
      ]
     },
     "execution_count": 46,
     "metadata": {},
     "output_type": "execute_result"
    }
   ],
   "source": [
    "thetas[3]"
   ]
  },
  {
   "cell_type": "code",
   "execution_count": 47,
   "metadata": {},
   "outputs": [
    {
     "data": {
      "text/plain": [
       "array([[ 2.78354669e+03, -1.45853336e+00, -2.55202629e+00,\n",
       "        -5.27529338e+02]])"
      ]
     },
     "execution_count": 47,
     "metadata": {},
     "output_type": "execute_result"
    }
   ],
   "source": [
    "example_norm[:, 1:]"
   ]
  },
  {
   "cell_type": "code",
   "execution_count": null,
   "metadata": {},
   "outputs": [],
   "source": []
  }
 ],
 "metadata": {
  "kernelspec": {
   "display_name": "Python 3",
   "language": "python",
   "name": "python3"
  },
  "language_info": {
   "codemirror_mode": {
    "name": "ipython",
    "version": 3
   },
   "file_extension": ".py",
   "mimetype": "text/x-python",
   "name": "python",
   "nbconvert_exporter": "python",
   "pygments_lexer": "ipython3",
   "version": "3.6.5"
  }
 },
 "nbformat": 4,
 "nbformat_minor": 2
}
